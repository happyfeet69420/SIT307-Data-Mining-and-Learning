{
 "cells": [
  {
   "cell_type": "markdown",
   "metadata": {},
   "source": [
    "# <span style=\"color:#0b486b\">SIT307 - Data Mining and Machine Learning</span>\n",
    "\n",
    "---\n",
    "\n",
    "\n",
    "---\n",
    "\n",
    "\n",
    "## <span style=\"color:#0b486b\">Practical Session 1: Python Basics</span>\n",
    "\n",
    "**The purpose of this session is:**\n",
    "\n",
    "1. Getting your feet wet with Python programming. Demonstration of simple commands, if/else, and loops \n",
    "\n",
    "**Instructions** \n",
    "\n",
    "1. After you download this notebook, save another copy and rename it so you keep your solution.\n",
    "2. As we walk through the notebook, you should write your own code in the cells provided for you where necessary. Enter your own code in these cells.\n",
    "3. Although it is NOT marked, you are strongly recommended to keep these saved notebooks for your future reference.\n",
    "\n",
    "**Please note that**:\n",
    "* This unit is *not* about teaching you how to program in Python. You are responsible for developing your own programming skills. There are many excellent resources to learn python online as well as the recommended textbooks presented in the lecture.\n",
    "* Also note this file does not need to be submitted."
   ]
  },
  {
   "cell_type": "markdown",
   "metadata": {},
   "source": [
    "# <span style=\"color:#0b486b\">Part 1: On using Notebooks and installing Python</span>\n",
    "\n",
    "**Optional:**\n",
    "* [1. Introduction to Python Environments.pdf](1. Introduction to Python Environments.pdf) gives you the step by step instruction on how to install Anaconda on your machine and an introduction to Python interpreter.\n",
    "* [2. Jupyter Notbook Introduction.pdf](2. Jupyter Notbook Introduction.pdf) provides an introduction to using jupyter notepad."
   ]
  },
  {
   "cell_type": "markdown",
   "metadata": {},
   "source": [
    "## <span style=\"color:#0b486b\"> Python Basics</span>\n",
    "\n",
    "### 1 The customary hello\n",
    "Run the following cell. "
   ]
  },
  {
   "cell_type": "code",
   "execution_count": null,
   "metadata": {
    "collapsed": true
   },
   "outputs": [],
   "source": [
    "print(\"Hello, World!\")"
   ]
  },
  {
   "cell_type": "markdown",
   "metadata": {},
   "source": [
    "\n",
    "**Exercise**: print your name   "
   ]
  },
  {
   "cell_type": "code",
   "execution_count": 1,
   "metadata": {},
   "outputs": [
    {
     "name": "stdout",
     "output_type": "stream",
     "text": [
      "Anthony\n"
     ]
    }
   ],
   "source": [
    "# Your code here\n",
    "print(\"Anthony\")"
   ]
  },
  {
   "cell_type": "markdown",
   "metadata": {},
   "source": [
    "### 2 Inserting Comments"
   ]
  },
  {
   "cell_type": "markdown",
   "metadata": {},
   "source": [
    "You can insert comments to improve the readability of your program. There are three ways to insert comments. Run the following cell. Will it give any output?"
   ]
  },
  {
   "cell_type": "code",
   "execution_count": 2,
   "metadata": {},
   "outputs": [
    {
     "name": "stdout",
     "output_type": "stream",
     "text": [
      "I don't see any comments\n"
     ]
    }
   ],
   "source": [
    "# This is a one-line comment\n",
    "\n",
    "'''\n",
    "This is a \n",
    "multi-line comment\n",
    "'''\n",
    "\n",
    "\"\"\"\n",
    "This is also a\n",
    "multi-line comment\n",
    "\"\"\"\n",
    "print(\"I don't see any comments\")"
   ]
  },
  {
   "cell_type": "markdown",
   "metadata": {},
   "source": [
    "### 3. Variables and types\n",
    "\n",
    "Variable names can contain letters and numbers. You dont need to explicitly define the type of variable. But you can inspect the variable type using the \"type()\" command.\n",
    "Run the code below. "
   ]
  },
  {
   "cell_type": "code",
   "execution_count": 5,
   "metadata": {},
   "outputs": [
    {
     "name": "stdout",
     "output_type": "stream",
     "text": [
      "<class 'int'>\n",
      "<class 'float'>\n"
     ]
    }
   ],
   "source": [
    "x = 10\n",
    "print(type(x))\n",
    "\n",
    "y = 10.1\n",
    "print(type(y))"
   ]
  },
  {
   "cell_type": "markdown",
   "metadata": {},
   "source": [
    "**Excercise**: Enter a floating point and string for x and run the above code. Observe the output."
   ]
  },
  {
   "cell_type": "markdown",
   "metadata": {},
   "source": [
    "#### 3.1 Lists\n",
    "\n",
    "List is the most versatile and common data type in Python. Lists can contain values of different types.\n",
    "\n",
    "The syntax for creating lists in Python is list_name = [item_0, item_1, ..., item_n]."
   ]
  },
  {
   "cell_type": "code",
   "execution_count": 6,
   "metadata": {},
   "outputs": [
    {
     "name": "stdout",
     "output_type": "stream",
     "text": [
      "<class 'list'>\n",
      "[1, 5, 2.57, 'abc', 4.09]\n",
      "Length of the list is:  5\n"
     ]
    }
   ],
   "source": [
    "mylist = [1, 5, 2.57, 'abc', 4.09]\n",
    "print(type(mylist))                           # prints the type\n",
    "print(mylist)                                 # prints the entire list\n",
    "print(\"Length of the list is: \", len(mylist)) # prints length of the list"
   ]
  },
  {
   "cell_type": "markdown",
   "metadata": {},
   "source": [
    "**List indexing** starts from zero to -1. The index of -1 represent the last element. \n"
   ]
  },
  {
   "cell_type": "code",
   "execution_count": 7,
   "metadata": {},
   "outputs": [
    {
     "name": "stdout",
     "output_type": "stream",
     "text": [
      "1\n",
      "4\n",
      "8\n",
      "7\n"
     ]
    }
   ],
   "source": [
    "# indexing\n",
    "numbers = [1, 2, 3, 4, 5, 6, 7, 8]\n",
    "\n",
    "print(numbers[0])     # prints the first element - 1\n",
    "print(numbers[3])     # prints the fourth elemnt - 4\n",
    "print(numbers[-1])    # prints the last element - 8\n",
    "print(numbers[-2])    # prints the second last element - 7"
   ]
  },
  {
   "cell_type": "markdown",
   "metadata": {},
   "source": [
    "#### 3.2 Tuple data type\n",
    "A tuple is like a list, but the items cannot be changed once initiated. Indexing rules are similar to lists.\n",
    "\n",
    "Syntax: tuple_name = (item_1, item_2, ...., item_n)"
   ]
  },
  {
   "cell_type": "code",
   "execution_count": 8,
   "metadata": {},
   "outputs": [
    {
     "name": "stdout",
     "output_type": "stream",
     "text": [
      "<class 'tuple'>\n",
      "('VIC', 'NSW', 'QLD', 'WA', 'ACT', 'NT', 'TAS', 'SA')\n"
     ]
    }
   ],
   "source": [
    "states = ('VIC', 'NSW', 'QLD', 'WA', 'ACT', 'NT', 'TAS', 'SA')\n",
    "print(type(states)) # prints the type\n",
    "print(states)       # prints the elements of the list"
   ]
  },
  {
   "cell_type": "markdown",
   "metadata": {},
   "source": [
    "Lets try changing the value of the list \"numbers\" and the tuple \"states\" in the code below:\n",
    "Try uncommenting the second line and running it."
   ]
  },
  {
   "cell_type": "code",
   "execution_count": 12,
   "metadata": {},
   "outputs": [
    {
     "ename": "TypeError",
     "evalue": "'tuple' object does not support item assignment",
     "output_type": "error",
     "traceback": [
      "\u001b[1;31m---------------------------------------------------------------------------\u001b[0m",
      "\u001b[1;31mTypeError\u001b[0m                                 Traceback (most recent call last)",
      "\u001b[1;32m<ipython-input-12-3acac996dd01>\u001b[0m in \u001b[0;36m<module>\u001b[1;34m\u001b[0m\n\u001b[0;32m      1\u001b[0m \u001b[0mnumbers\u001b[0m\u001b[1;33m[\u001b[0m\u001b[1;36m2\u001b[0m\u001b[1;33m]\u001b[0m \u001b[1;33m=\u001b[0m \u001b[1;36m10\u001b[0m\u001b[1;33m\u001b[0m\u001b[1;33m\u001b[0m\u001b[0m\n\u001b[0;32m      2\u001b[0m \u001b[1;33m\u001b[0m\u001b[0m\n\u001b[1;32m----> 3\u001b[1;33m \u001b[0mstates\u001b[0m\u001b[1;33m[\u001b[0m\u001b[1;36m2\u001b[0m\u001b[1;33m]\u001b[0m \u001b[1;33m=\u001b[0m \u001b[1;34m'IDK'\u001b[0m\u001b[1;33m\u001b[0m\u001b[1;33m\u001b[0m\u001b[0m\n\u001b[0m\u001b[0;32m      4\u001b[0m \u001b[1;33m\u001b[0m\u001b[0m\n\u001b[0;32m      5\u001b[0m \u001b[0mprint\u001b[0m\u001b[1;33m(\u001b[0m\u001b[0mnumbers\u001b[0m\u001b[1;33m)\u001b[0m\u001b[1;33m\u001b[0m\u001b[1;33m\u001b[0m\u001b[0m\n",
      "\u001b[1;31mTypeError\u001b[0m: 'tuple' object does not support item assignment"
     ]
    }
   ],
   "source": [
    "numbers[2] = 10\n",
    "\n",
    "states[2] = 'IDK'\n",
    "\n",
    "print(numbers)\n",
    "print(states)"
   ]
  },
  {
   "cell_type": "markdown",
   "metadata": {},
   "source": [
    "#### 3.4 Dictionaries"
   ]
  },
  {
   "cell_type": "markdown",
   "metadata": {},
   "source": [
    "Dictionaries are similar to lists, except that each element is a key-value pair.\n",
    "The syntax for dictionaries is {key1 : value1, ...}. \n",
    "Note that the values can be of any type, even another dictionary. \n",
    "You can access and manipulate the values of a dictionary using its keys."
   ]
  },
  {
   "cell_type": "code",
   "execution_count": 13,
   "metadata": {},
   "outputs": [
    {
     "name": "stdout",
     "output_type": "stream",
     "text": [
      "This is one\n",
      "{'one': 'This is one', 2: 'This is two'}\n",
      "One has changed\n"
     ]
    }
   ],
   "source": [
    "dict = {} \n",
    "dict['one'] = \"This is one\" \n",
    "dict[2] = \"This is two\" \n",
    "\n",
    "print(dict['one'])\n",
    "print(dict)\n",
    "dict['one'] = \"One has changed\"\n",
    "print(dict['one'])"
   ]
  },
  {
   "cell_type": "markdown",
   "metadata": {},
   "source": [
    "#### 3.3 Strings\n",
    "Strings are used to store text messages and have the same indexing rules as lists and tuples.\n",
    "\n",
    "For example run the code below:"
   ]
  },
  {
   "cell_type": "code",
   "execution_count": 14,
   "metadata": {},
   "outputs": [
    {
     "name": "stdout",
     "output_type": "stream",
     "text": [
      "Zed's dead baby, Zed's dead!\n",
      "Z\n",
      "d's\n",
      "d's dead baby, Zed's dead!\n",
      "Zed's dead baby, Zed's dead!Zed's dead baby, Zed's dead!\n",
      "Zed's dead baby, Zed's dead!TEST\n"
     ]
    }
   ],
   "source": [
    "str = \"Zed's dead baby, Zed's dead!\"\n",
    "\n",
    "print(str)          # Prints complete string \n",
    "print(str[0])       # Prints first character of the string \n",
    "print(str[2:5])     # Prints characters starting from 3rd to 5th \n",
    "print(str[2:])      # Prints string starting from 3rd character \n",
    "print(str * 2)      # Prints string two times\n",
    "print(str + \"TEST\") # Prints concatenated string "
   ]
  },
  {
   "cell_type": "markdown",
   "metadata": {},
   "source": [
    "#### Slicing with Lists and Strings\n",
    "You can extract a part of a list/string using the syntax [start:stop], which extracts characters between index start and stop.\n"
   ]
  },
  {
   "cell_type": "code",
   "execution_count": 15,
   "metadata": {},
   "outputs": [
    {
     "name": "stdout",
     "output_type": "stream",
     "text": [
      "[3, 4, 5]\n",
      "This is\n",
      "a string.\n"
     ]
    }
   ],
   "source": [
    "# slicing\n",
    "l = [1, 2, 3, 4, 5, 6, 7, 8]\n",
    "s = \"This is a string.\"\n",
    "\n",
    "print(l[2:5])\n",
    "print(s[0:7])\n",
    "print(s[8:])"
   ]
  },
  {
   "cell_type": "markdown",
   "metadata": {},
   "source": [
    "\n",
    "You can define a step for slicing as in [start:stop:step]. Lets examine what it does:"
   ]
  },
  {
   "cell_type": "code",
   "execution_count": 16,
   "metadata": {},
   "outputs": [
    {
     "name": "stdout",
     "output_type": "stream",
     "text": [
      "is is a \n",
      "\n",
      "Ti sa\n",
      "Ti sa\n"
     ]
    }
   ],
   "source": [
    "# [start:stop:step]\n",
    "print(s[2:10:1])\n",
    "print()\n",
    "\n",
    "# These two are equal\n",
    "print(s[0:10:2])\n",
    "print(s[:10:2])"
   ]
  },
  {
   "cell_type": "markdown",
   "metadata": {},
   "source": [
    "Slicing Step can be a negative value as well."
   ]
  },
  {
   "cell_type": "code",
   "execution_count": 17,
   "metadata": {},
   "outputs": [
    {
     "name": "stdout",
     "output_type": "stream",
     "text": [
      "s a si s\n",
      "\n",
      ".gnirts a si sihT\n"
     ]
    }
   ],
   "source": [
    "print(s[10:2:-1])\n",
    "print()\n",
    "\n",
    "# reversing a list or string\n",
    "print(s[::-1])"
   ]
  },
  {
   "cell_type": "markdown",
   "metadata": {},
   "source": [
    "**Exercise**: define a string with value equal to \"They call it a Royale with cheese!\". How can you print every third character of it?"
   ]
  },
  {
   "cell_type": "code",
   "execution_count": 20,
   "metadata": {},
   "outputs": [
    {
     "name": "stdout",
     "output_type": "stream",
     "text": [
      "eclt yei ee\n"
     ]
    }
   ],
   "source": [
    "# Your code:\n",
    "string = 'They call it a Royale with cheese!'\n",
    "print(string[2:34:3])\n"
   ]
  },
  {
   "cell_type": "markdown",
   "metadata": {
    "collapsed": true
   },
   "source": [
    "### 4. Getting Input from Keyboard\n",
    "You can take input from the keyboad using input() "
   ]
  },
  {
   "cell_type": "code",
   "execution_count": 21,
   "metadata": {},
   "outputs": [
    {
     "name": "stdout",
     "output_type": "stream",
     "text": [
      "Enter a value: 12\n",
      "You entered 12, of type: <class 'str'>\n"
     ]
    }
   ],
   "source": [
    "#Get input from user\n",
    "a = input('Enter a value: ')\n",
    "print('You entered {}, of type: {}'.format(a, type(a)))"
   ]
  },
  {
   "cell_type": "markdown",
   "metadata": {},
   "source": [
    "Note how we used the print statement to include arguments. The place for the arguments inside the quotes is marked used {}. At the end of the print statement, we insert \".format(list_of_variablenames)\"\n",
    "\n",
    "input() always returns the value as string type. So how can we input other types like integers and floats?\n",
    "Use type conversion as: type_name()"
   ]
  },
  {
   "cell_type": "code",
   "execution_count": 22,
   "metadata": {},
   "outputs": [
    {
     "name": "stdout",
     "output_type": "stream",
     "text": [
      "Enter your age: 10\n",
      "Next year, you will be 11 years old\n"
     ]
    }
   ],
   "source": [
    "#Get input from user\n",
    "age = input('Enter your age: ')\n",
    "age = int(age)\n",
    "\n",
    "print('Next year, you will be {} years old'.format(age+1))"
   ]
  },
  {
   "cell_type": "markdown",
   "metadata": {},
   "source": [
    "**Exercise** Take the radius of a circle as input from the user and print the area using the formula: area = 3.14 * (radius)**2"
   ]
  },
  {
   "cell_type": "code",
   "execution_count": 23,
   "metadata": {},
   "outputs": [
    {
     "name": "stdout",
     "output_type": "stream",
     "text": [
      "Enter radius: 10\n",
      "Area of the circle is: 314.0\n"
     ]
    }
   ],
   "source": [
    "#get the radius from the user\n",
    "radius = input('Enter radius: ')\n",
    "\n",
    "#convert radius to float\n",
    "radius = float(radius)\n",
    "\n",
    "#calculate the area of the circle\n",
    "area = 3.14 * (radius)**2\n",
    "\n",
    "print(\"Area of the circle is: {}\".format(area))"
   ]
  },
  {
   "cell_type": "markdown",
   "metadata": {},
   "source": [
    "### 5 Checking conditions\n",
    "\n",
    "The Python syntax for conditional execution of code use the keywords if, elif (else if), else. \n",
    "Unlike curly braces {} used in other programming languages, Python code blocks are defined by their indentation level."
   ]
  },
  {
   "cell_type": "code",
   "execution_count": 24,
   "metadata": {},
   "outputs": [
    {
     "name": "stdout",
     "output_type": "stream",
     "text": [
      "First statement is true\n",
      "This is printed outside the if-else block\n"
     ]
    }
   ],
   "source": [
    "statement1 = True\n",
    "statement2 = False\n",
    "\n",
    "if statement1: \n",
    "    print(\"First statement is true\")\n",
    "elif statement2:\n",
    "    print(\"Second statement is true\")\n",
    "else:\n",
    "    print(\"Both statements are false\")\n",
    "\n",
    "print(\"This is printed outside the if-else block\")"
   ]
  },
  {
   "cell_type": "markdown",
   "metadata": {},
   "source": [
    "The type of statement1 and statement2 is boolean. You can check this by running type(statement1).\n",
    "Python also treats any non zero integer as True. \n",
    "\n",
    "**Excercise** Change the values of statements 1 and 2 to different boolean values and observe the output. Also try assigning them zero and non-zero values."
   ]
  },
  {
   "cell_type": "markdown",
   "metadata": {},
   "source": [
    "Run the following blocks for an experiment with indentation. "
   ]
  },
  {
   "cell_type": "code",
   "execution_count": 25,
   "metadata": {},
   "outputs": [],
   "source": [
    "# nothing happens\n",
    "statement1 = False \n",
    "\n",
    "if statement1:\n",
    "    print(\"printed if statement1 is True\")\n",
    "    \n",
    "    print(\"still inside the if block\")"
   ]
  },
  {
   "cell_type": "code",
   "execution_count": 26,
   "metadata": {},
   "outputs": [
    {
     "name": "stdout",
     "output_type": "stream",
     "text": [
      "now outside the if block\n"
     ]
    }
   ],
   "source": [
    "if statement1:\n",
    "    print(\"printed if statement1 is True\")\n",
    "    \n",
    "print(\"now outside the if block\")"
   ]
  },
  {
   "cell_type": "markdown",
   "metadata": {},
   "source": [
    "### 6 Loops\n",
    "\n",
    "Loops can be programmed using for and while. \n",
    "The for loop is used to iterate through python objects like lists, arrays and tuples."
   ]
  },
  {
   "cell_type": "code",
   "execution_count": 27,
   "metadata": {},
   "outputs": [
    {
     "name": "stdout",
     "output_type": "stream",
     "text": [
      "1\n",
      "2\n",
      "3\n",
      "4\n",
      "5\n"
     ]
    }
   ],
   "source": [
    "l = [1, 2, 3, 4, 5]\n",
    "for item in l:\n",
    "    print(item)"
   ]
  },
  {
   "cell_type": "markdown",
   "metadata": {},
   "source": [
    "Tip: When you have a long list, double click on the left-hand side of the output to hide it. "
   ]
  },
  {
   "cell_type": "markdown",
   "metadata": {},
   "source": [
    "An example using for loops to initialize lists"
   ]
  },
  {
   "cell_type": "code",
   "execution_count": 29,
   "metadata": {},
   "outputs": [
    {
     "name": "stdout",
     "output_type": "stream",
     "text": [
      "Initial list: range(2, 6)\n",
      "Initial list: [2, 3, 4, 5]\n",
      "The new list: [4, 9, 16, 25]\n"
     ]
    }
   ],
   "source": [
    "# range(start, stop) creates a range of values from start to stop-1\n",
    "x = range(2, 6)\n",
    "print(\"Initial list: {}\".format(x))\n",
    "\n",
    "# In Python 3 range doesnt produce a list - instead produces a range object\n",
    "# Therefore must convert range to a list\n",
    "x = list(x)  \n",
    "print(\"Initial list: {}\".format(x))\n",
    "\n",
    "for counter, item in enumerate(x):\n",
    "    x[counter] = item**2\n",
    "    \n",
    "\n",
    "print(\"The new list: {}\".format(x))"
   ]
  },
  {
   "cell_type": "markdown",
   "metadata": {},
   "source": [
    "During each step of the for loop, enumerate(x) iterates through the list and store the index in counter and value in item\n",
    "\n",
    "Here is a shorter way of doing it:"
   ]
  },
  {
   "cell_type": "code",
   "execution_count": 30,
   "metadata": {},
   "outputs": [
    {
     "name": "stdout",
     "output_type": "stream",
     "text": [
      "[4, 9, 16, 25]\n"
     ]
    }
   ],
   "source": [
    "newlist = [x**2 for x in range(2, 6)]\n",
    "\n",
    "print(newlist)"
   ]
  },
  {
   "cell_type": "markdown",
   "metadata": {},
   "source": [
    "#### While Loops\n",
    "Example using while loops"
   ]
  },
  {
   "cell_type": "code",
   "execution_count": 31,
   "metadata": {},
   "outputs": [
    {
     "name": "stdout",
     "output_type": "stream",
     "text": [
      "0 1 2 3 4 \n",
      "done\n"
     ]
    }
   ],
   "source": [
    "i = 0\n",
    "\n",
    "while i < 5:\n",
    "    print(i, end=' ')\n",
    "    i += 1\n",
    "    \n",
    "print()\n",
    "print(\"done\") # Note that this is printed outside the loop"
   ]
  },
  {
   "cell_type": "markdown",
   "metadata": {},
   "source": [
    "**Excercise** : Create a list of intergers from 1 to 50. Print all the values that are divisible by 3 and not divisible by 2"
   ]
  },
  {
   "cell_type": "code",
   "execution_count": 34,
   "metadata": {},
   "outputs": [
    {
     "name": "stdout",
     "output_type": "stream",
     "text": [
      "3\n",
      "9\n",
      "15\n",
      "21\n",
      "27\n",
      "33\n",
      "39\n",
      "45\n"
     ]
    }
   ],
   "source": [
    "# use the range function to create a list from 1 to 50\n",
    "my_list = range(1, 50)\n",
    "\n",
    "#iterate through the list.\n",
    "\n",
    "for item in my_list:\n",
    "    if item % 3 == 0 and item % 2 != 0:\n",
    "        print(item)\n",
    "        \n",
    "# Use the if condition. Two conditions can be checked simultaneously as:\n",
    "# if condition1 and condition2:\n",
    "\n",
    "\n"
   ]
  },
  {
   "cell_type": "markdown",
   "metadata": {},
   "source": [
    "### 7 Functions\n",
    "\n",
    "A function in Python is defined using the keyword def, followed by a function name, function arguments within parentheses (), and a colon :\n",
    "\n",
    "The following code, with one additional level of indentation, is the function body. It is recommended to use \"docstring\" for your functions. Docstring explains what the function does. \n",
    "\n",
    "Lets look at an example:"
   ]
  },
  {
   "cell_type": "code",
   "execution_count": 35,
   "metadata": {},
   "outputs": [],
   "source": [
    "def func1(s):\n",
    "    \"\"\"\n",
    "    THIS BIT IS CALLED DOCSTRING similar to comments to document the code\n",
    "    Prints a string 's' and tells the number of characters in it\n",
    "    \"\"\"\n",
    "    \n",
    "    print(\"Number of characters in the string: \", len(s))\n",
    "    return 2*len(s) "
   ]
  },
  {
   "cell_type": "code",
   "execution_count": 36,
   "metadata": {},
   "outputs": [
    {
     "name": "stdout",
     "output_type": "stream",
     "text": [
      "Number of characters in the string:  13\n",
      "26\n"
     ]
    }
   ],
   "source": [
    "a = func1(\"test function\")\n",
    "print(a)"
   ]
  },
  {
   "cell_type": "markdown",
   "metadata": {},
   "source": [
    "Use the return keyword for functions that return a value. A function can also return multiple values using tuples."
   ]
  },
  {
   "cell_type": "code",
   "execution_count": 37,
   "metadata": {},
   "outputs": [],
   "source": [
    "def powers(x):\n",
    "    \"\"\"\n",
    "    Return a few powers of x.\n",
    "    \"\"\"\n",
    "    xs = x**2\n",
    "    xc = x**3\n",
    "    xf = x**4\n",
    "    return xs, xc, xf"
   ]
  },
  {
   "cell_type": "code",
   "execution_count": 38,
   "metadata": {},
   "outputs": [
    {
     "name": "stdout",
     "output_type": "stream",
     "text": [
      "(9, 27, 81)\n",
      "8\n"
     ]
    }
   ],
   "source": [
    "print(powers(3))\n",
    "\n",
    "y1,y2,y3= powers(2)\n",
    "print(y2)"
   ]
  },
  {
   "cell_type": "markdown",
   "metadata": {},
   "source": [
    "#### 7.1 Anonymous Functions\n",
    "Anonymous functions are defined by the keyword 'lambda' in Python. Functions 'f' and 'g' in the cell below basically do the same thing but 'g' is an anonymous function."
   ]
  },
  {
   "cell_type": "code",
   "execution_count": 39,
   "metadata": {},
   "outputs": [
    {
     "name": "stdout",
     "output_type": "stream",
     "text": [
      "64 64\n"
     ]
    }
   ],
   "source": [
    "def f(x):\n",
    "    return x**2\n",
    "\n",
    "g = lambda x: x**2\n",
    "\n",
    "print(f(8), g(8))"
   ]
  },
  {
   "cell_type": "markdown",
   "metadata": {},
   "source": [
    "Another fun example: \n",
    "\n",
    "In the cell below, we used anonymous function:  'n_increment()'. We create new functions by passing 'n' to 'n_incremenet()'. For example 'f5' and 'f9' are functions that add 5 and 9 to their inputs respectively.\n"
   ]
  },
  {
   "cell_type": "code",
   "execution_count": 40,
   "metadata": {},
   "outputs": [
    {
     "name": "stdout",
     "output_type": "stream",
     "text": [
      "8 11\n"
     ]
    }
   ],
   "source": [
    "def n_increment(n): \n",
    "    return lambda x: x+n\n",
    "\n",
    "f5 = n_increment(5)\n",
    "f9 = n_increment(9)\n",
    "\n",
    "print (f5(3), f9(2))"
   ]
  }
 ],
 "metadata": {
  "kernelspec": {
   "display_name": "Python 3",
   "language": "python",
   "name": "python3"
  },
  "language_info": {
   "codemirror_mode": {
    "name": "ipython",
    "version": 3
   },
   "file_extension": ".py",
   "mimetype": "text/x-python",
   "name": "python",
   "nbconvert_exporter": "python",
   "pygments_lexer": "ipython3",
   "version": "3.8.5"
  }
 },
 "nbformat": 4,
 "nbformat_minor": 1
}
